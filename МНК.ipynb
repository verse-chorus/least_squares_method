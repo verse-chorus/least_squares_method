{
 "cells": [
  {
   "cell_type": "code",
   "execution_count": 82,
   "id": "6e6fe3f3",
   "metadata": {},
   "outputs": [],
   "source": [
    "import sys\n",
    "import numpy as np\n",
    "import matplotlib.pyplot as plt\n",
    "from importlib import reload\n",
    "from sympy import Symbol\n",
    "import random as rd\n",
    "plt=reload(plt)"
   ]
  },
  {
   "cell_type": "markdown",
   "id": "0dc09b0d",
   "metadata": {},
   "source": [
    "## Исходная функция"
   ]
  },
  {
   "cell_type": "code",
   "execution_count": 83,
   "id": "a498afa0",
   "metadata": {},
   "outputs": [],
   "source": [
    "def fn(x):\n",
    "    return x**2 + np.sin(x)"
   ]
  },
  {
   "cell_type": "code",
   "execution_count": 109,
   "id": "5b1d5a89",
   "metadata": {},
   "outputs": [
    {
     "name": "stdout",
     "output_type": "stream",
     "text": [
      "Введите левую границу a: -6\n",
      "Введите правую границу b: 9\n",
      "Введите Степень многочлена для МНК n (она должна быть меньше числа точек из входных данных!): 50\n"
     ]
    }
   ],
   "source": [
    "a = int(input('Введите левую границу a: '))\n",
    "b = int(input('Введите правую границу b: '))\n",
    "\n",
    "fun_vals = []\n",
    "eps = 10\n",
    "x, y = [], []\n",
    "interval = np.linspace(a, b, 100)\n",
    "\n",
    "# Генерируем приближенные значения функции в абсциссах\n",
    "for i in interval:\n",
    "    fun_vals.append(fn(i) + (-1)**(rd.randint(-1, 1))*5*np.cos(i))\n",
    "    x.append(i)\n",
    "    \n",
    "x = np.array(x, float)    \n",
    "y = np.array(fun_vals, float)\n",
    "\n",
    "# print('Множество абсцисс: ', x)\n",
    "# print('Множество ординат: ', y)\n",
    "\n",
    "n = int(input('Введите Степень многочлена для МНК n (она должна быть меньше числа точек из входных данных!): '))"
   ]
  },
  {
   "cell_type": "markdown",
   "id": "2e883b17",
   "metadata": {},
   "source": [
    "## Нормальные уравнения"
   ]
  },
  {
   "cell_type": "code",
   "execution_count": 121,
   "id": "d2a67a6f",
   "metadata": {},
   "outputs": [
    {
     "name": "stdout",
     "output_type": "stream",
     "text": [
      "76.8657089276239*x**99 + 82.9359209452523*x**98 + 80.4331125346362*x**97 + 76.2410254490387*x**96 + 74.3794346549112*x**95 + 70.7525612594181*x**94 + 66.0233217986843*x**93 + 62.4225355883418*x**92 + 60.3932763709515*x**91 + 58.904477526145*x**90 + 56.96538677186*x**89 + 54.3899206280601*x**88 + 51.6126626877143*x**87 + 49.1518046579238*x**86 + 47.2329480067191*x**85 + 45.7304512438318*x**84 + 44.3263378539665*x**83 + 42.7162827194389*x**82 + 40.7435252972771*x**81 + 38.4259685442244*x**80 + 35.9034400678913*x**79 + 33.3549818941949*x**78 + 30.9287264770492*x**77 + 28.7060141428423*x**76 + 26.7008275594174*x**75 + 24.8827045804973*x**74 + 23.207369644089*x**73 + 21.6420954922861*x**72 + 20.178770040968*x**71 + 18.8337418845341*x**70 + 17.6378784280522*x**69 + 16.6222499144867*x**68 + 15.8047131177146*x**67 + 15.1811449187446*x**66 + 14.723000167552*x**65 + 14.3809236630865*x**64 + 14.0927574822025*x**63 + 13.7936120163039*x**62 + 13.4256631207418*x**61 + 12.9458224173057*x**60 + 12.3301777151996*x**59 + 11.5749021973286*x**58 + 10.6940202133269*x**57 + 9.71489492555152*x**56 + 8.67253305400622*x**55 + 7.60380063711867*x**54 + 6.54246183498759*x**53 + 5.51565828369716*x**52 + 4.54210936543076*x**51 + 3.63199492189911*x**50 + 2.78822650196273*x**49 + 2.00864769450273*x**48 + 1.28863681113107*x**47 + 0.623609081810198*x**46 + 0.0110121464199035*x**45 - 0.548447357084165*x**44 - 1.05044466553621*x**43 - 1.4874868909817*x**42 - 1.84998563166266*x**41 - 2.12768167591228*x**40 - 2.31111936868514*x**39 - 2.39288855174649*x**38 - 2.36841765359502*x**37 - 2.2361997834703*x**36 - 1.9974479109628*x**35 - 1.65528693230664*x**34 - 1.21368169901435*x**33 - 0.676355764941521*x**32 - 0.0459653656637155*x**31 + 0.67624692519894*x**30 + 1.49018080427911*x**29 + 2.3959726204827*x**28 + 3.39257773221901*x**27 + 4.4760955910813*x**26 + 5.63819296560271*x**25 + 6.86502494632932*x**24 + 8.13702220655592*x**23 + 9.42979775141817*x**22 + 10.7162330135384*x**21 + 11.9695552829403*x**20 + 13.1669580441458*x**19 + 14.2930999129469*x**18 + 15.3427104386532*x**17 + 16.3215886682746*x**16 + 17.2455328228084*x**15 + 18.1371676314797*x**14 + 19.0211540133393*x**13 + 19.9187193485593*x**12 + 20.8426431693011*x**11 + 21.7936262760397*x**10 + 22.7584103487753*x**9 + 23.7095434884252*x**8 + 24.6072891803082*x**7 + 25.4071869576479*x**6 + 26.0826865997031*x**5 + 26.6771666517825*x**4 + 27.3864906534851*x**3 + 28.5931638071747*x**2 + 30.5076152276646*x + 31.3609870933928\n",
      "\n",
      "Коэффициенты многочлена:\n",
      "-2.212839541304119\n",
      "1.2775083875159385\n",
      "2.1286055206380596\n",
      "-0.3721766950849179\n",
      "-0.198740410480885\n",
      "0.09107693008363779\n",
      "0.061632626488797394\n",
      "-0.014536528809855198\n",
      "-0.010080634219896877\n",
      "0.0012119742105364494\n",
      "0.0008043926271154215\n",
      "-5.4362380905679135e-05\n",
      "-3.335825266495922e-05\n",
      "1.2463283076719143e-06\n",
      "6.489919967052695e-07\n",
      "-1.016325386748144e-08\n",
      "-1.634398183243618e-09\n",
      "8.756369270027397e-11\n",
      "-9.438652278610011e-11\n",
      "-1.4405101357864886e-11\n",
      "-8.833321527925165e-13\n",
      "4.773836926304213e-13\n",
      "3.9321322379181353e-14\n",
      "-3.154753076870723e-15\n",
      "6.603574790274145e-17\n",
      "-6.544677151743194e-17\n",
      "-1.1974677585237649e-18\n",
      "2.332887807203964e-19\n",
      "-9.827809796095487e-20\n",
      "8.15474922170566e-21\n",
      "9.148740920391583e-22\n",
      "2.2290515489915214e-24\n",
      "1.2251000901984556e-24\n",
      "1.6000357882324029e-24\n",
      "-2.45927598695387e-25\n",
      "5.2495954406429985e-27\n",
      "-1.2247373146670527e-27\n",
      "3.289327402638028e-29\n",
      "8.255504683599546e-30\n",
      "-4.3520156851205176e-30\n",
      "2.5631677045242685e-31\n",
      "1.1655703597650156e-32\n",
      "2.2818316835016448e-33\n",
      "6.850567387777776e-35\n",
      "-1.8338593081811142e-35\n",
      "-7.640867334775976e-37\n",
      "2.4617778181566474e-37\n",
      "2.873378294024099e-39\n",
      "-8.498981526912314e-39\n",
      "5.278665783146142e-40\n",
      "4.6389973599425814e-42\n",
      "\n",
      "Стандартное отклонение:  3.9413561911114687\n",
      "\n",
      "Коэффициент корреляции:  0.9921219847411558\n"
     ]
    },
    {
     "data": {
      "image/png": "[encoded data removed]",
      "text/plain": [
       "<Figure size 700x490 with 1 Axes>"
      ]
     },
     "metadata": {
      "needs_background": "light"
     },
     "output_type": "display_data"
    }
   ],
   "source": [
    "# рассматриваем многочлен: y = c0 + c1(x) + c2(x**2) +...+ cn(x**n)\n",
    "\n",
    "pts = len(x) # число точек во входных данных\n",
    "polyval = [] # здесь будем хранить poly fit values\n",
    "\n",
    "if n+1 > pts:\n",
    "    print('Внимание: Степень многочлена должга быть меньше числа точек из входных данных')\n",
    "    print('Проверьте правильность введенных данных')\n",
    "    sys.exit()\n",
    "\n",
    "# Реализация МНК\n",
    "else:\n",
    "    matrixA = np.zeros((pts, n + 1)) # создаем матрицу А\n",
    "    matrixB = np.zeros((pts, 1)) # создаем матрицу B\n",
    "\n",
    "    # loop to populate arrays\n",
    "    for i in range(pts):\n",
    "        matrixB[i][0] = y[i] # b gets y values\n",
    "        for j in range(n + 1):\n",
    "            matrixA[i][j] = (x[i])**j # A gets x values^j\n",
    "\n",
    "    # Нормальные уравнения (A^T)Ax=(A^T)b\n",
    "    At = np.transpose(matrixA) # A transpose (A^T)\n",
    "    AtA = np.dot(At, matrixA) # matrix multiply (A^T)A\n",
    "    AtB = np.dot(At, matrixB) # matrix multiply (A^T)b\n",
    "    coeff = np.linalg.solve(AtA, AtB) # solve normal equation (A^T)Ax=(A^T)b\n",
    "\n",
    "    # get y-fit values\n",
    "    for i in range(pts):\n",
    "        yval = 0\n",
    "        for j in range(n + 1):\n",
    "            yval = yval + coeff[j, 0]*(x[i])**j # gets new y value using fit coeffs\n",
    "        polyval.append(yval) # collect new y values\n",
    "\n",
    "    def approximation(arg):\n",
    "        arg = Symbol('x')\n",
    "        function = 0\n",
    "        for i in range(pts):\n",
    "            function += polyval[i] * arg**i\n",
    "        return function\n",
    "    \n",
    "    print(approximation(10))\n",
    "    # Стандартное отклонение\n",
    "    error = y - polyval\n",
    "    sumval = np.sum(error**2)\n",
    "    stddev = (sumval/(pts - (n + 1)))**0.5\n",
    "\n",
    "    # Коэффициенты корреляции of fit as alternate \"goodness of fit\"\n",
    "    ymean = np.sum(y)/pts\n",
    "    sumfit = np.sum((y - ymean)**2)\n",
    "    rvalue = ((sumfit - sumval)/sumfit)**0.5\n",
    "\n",
    "    # Визуализация\n",
    "    plt.figure(figsize=(10, 7), dpi=70)\n",
    "    plt.plot(x, y, 'bo', label='Входные данные')\n",
    "    plt.plot(x, polyval, 'r--', label='Аппроксимация $f(x)$ с помощью МНК')\n",
    "    plt.xlabel('x')\n",
    "    plt.ylabel('y')\n",
    "    plt.legend(loc=2)\n",
    "\n",
    "    \n",
    "    print('\\nКоэффициенты многочлена:')\n",
    "    for i in coeff.flatten():\n",
    "        print(i)\n",
    "    print('\\nСтандартное отклонение: ', stddev)\n",
    "    print('\\nКоэффициент корреляции: ', rvalue)"
   ]
  },
  {
   "cell_type": "code",
   "execution_count": null,
   "id": "74530874",
   "metadata": {},
   "outputs": [],
   "source": []
  },
  {
   "cell_type": "code",
   "execution_count": null,
   "id": "6fafe449",
   "metadata": {},
   "outputs": [],
   "source": []
  }
 ],
 "metadata": {
  "kernelspec": {
   "display_name": "Python 3 (ipykernel)",
   "language": "python",
   "name": "python3"
  },
  "language_info": {
   "codemirror_mode": {
    "name": "ipython",
    "version": 3
   },
   "file_extension": ".py",
   "mimetype": "text/x-python",
   "name": "python",
   "nbconvert_exporter": "python",
   "pygments_lexer": "ipython3",
   "version": "3.9.6"
  }
 },
 "nbformat": 4,
 "nbformat_minor": 5
}
