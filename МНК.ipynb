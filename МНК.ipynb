{
 "cells": [
  {
   "cell_type": "code",
   "execution_count": 2,
   "id": "d758339f",
   "metadata": {},
   "outputs": [],
   "source": [
    "import sys\n",
    "import numpy as np\n",
    "import matplotlib.pyplot as plt\n",
    "from importlib import reload\n",
    "from sympy import Symbol\n",
    "import random as rd\n",
    "plt=reload(plt)"
   ]
  },
  {
   "cell_type": "markdown",
   "id": "621dcf0b",
   "metadata": {},
   "source": [
    "## Исходная функция"
   ]
  },
  {
   "cell_type": "code",
   "execution_count": 27,
   "id": "25f275db",
   "metadata": {},
   "outputs": [],
   "source": [
    "def fn(x):\n",
    "    return x**2 + np.sin(x)"
   ]
  },
  {
   "cell_type": "code",
   "execution_count": 28,
   "id": "becacdc8",
   "metadata": {},
   "outputs": [
    {
     "name": "stdout",
     "output_type": "stream",
     "text": [
      "Введите левую границу a: -5\n",
      "Введите правую границу b: 5\n",
      "Введите Степень многочлена для МНК n (она должна быть меньше числа точек из входных данных!): 3\n"
     ]
    }
   ],
   "source": [
    "a = int(input('Введите левую границу a: '))\n",
    "b = int(input('Введите правую границу b: '))\n",
    "\n",
    "fun_vals = []\n",
    "eps = 10\n",
    "x, y = [], []\n",
    "interval = np.linspace(a, b, 5)\n",
    "\n",
    "# Генерируем приближенные значения функции в абсциссах\n",
    "for i in interval:\n",
    "    fun_vals.append(fn(i) + ((-1)**(rd.randint(-1, 1)))*2*np.cos(i))\n",
    "    x.append(i)\n",
    "    \n",
    "x = np.array(x, float)    \n",
    "y = np.array(fun_vals, float)\n",
    "\n",
    "# print('Множество абсцисс: ', x)\n",
    "# print('Множество ординат: ', y)\n",
    "\n",
    "n = int(input('Введите Степень многочлена для МНК n (она должна быть меньше числа точек из входных данных!): '))"
   ]
  },
  {
   "cell_type": "markdown",
   "id": "2760d6dd",
   "metadata": {},
   "source": [
    "## Нормальные уравнения"
   ]
  },
  {
   "cell_type": "markdown",
   "id": "e4f88eb2",
   "metadata": {},
   "source": [
    "Для построения многочлена МНК степени $n$ (то есть $a_0 + a_1x + \\dots + a_n x^n$) рассмотрим\n",
    "![image](12.jpeg)\n",
    "Из матана известно, что необходимым условием минимума $g(a_0,\\dots,a_n)$ является условие"
   ]
  },
  {
   "cell_type": "markdown",
   "id": "91fc3bbf",
   "metadata": {},
   "source": [
    "![image](13.jpeg)"
   ]
  },
  {
   "cell_type": "markdown",
   "id": "02db71ca",
   "metadata": {},
   "source": [
    "Собираем коэффициенты при $a_i$ и переписываем систему в матричном виде"
   ]
  },
  {
   "cell_type": "markdown",
   "id": "ffd87c28",
   "metadata": {},
   "source": [
    "![image](10.jpeg)\n",
    "которую можно снова переписать:"
   ]
  },
  {
   "cell_type": "markdown",
   "id": "cffef882",
   "metadata": {},
   "source": [
    "## $$E^T E a = E^T f$$\n",
    "![image](11.jpeg)"
   ]
  },
  {
   "cell_type": "markdown",
   "id": "d4e2503b",
   "metadata": {},
   "source": [
    "Важно: если хотя бы $n+1$ точки из $x_1,\\dots,x_m$ различны  $\\Rightarrow rang\\;E = n+1 \\Rightarrow$ у системы $\\exists !$ решение $\\Rightarrow \\exists !$ точка минимума у $g(a_0,\\dots,a_n) \\Rightarrow$ у МНК $\\exists !$ решение"
   ]
  },
  {
   "cell_type": "code",
   "execution_count": 29,
   "id": "f6703121",
   "metadata": {},
   "outputs": [
    {
     "name": "stdout",
     "output_type": "stream",
     "text": [
      "matrixA:\n",
      " [[   1.      -5.      25.    -125.   ]\n",
      " [   1.      -2.5      6.25   -15.625]\n",
      " [   1.       0.       0.       0.   ]\n",
      " [   1.       2.5      6.25    15.625]\n",
      " [   1.       5.      25.     125.   ]]\n",
      "matrixB:\n",
      " [[26.52624865]\n",
      " [ 7.25381509]\n",
      " [-2.        ]\n",
      " [ 8.45075938]\n",
      " [23.47375135]]\n",
      "coeff:\n",
      " [[ 0.12728267]\n",
      " [ 0.42093505]\n",
      " [ 1.00909058]\n",
      " [-0.02904739]]\n",
      "\n",
      "Коэффициенты многочлена:\n",
      "0.1272826727500833\n",
      "0.420935053228078\n",
      "1.0090905775749972\n",
      "-0.02904739129383985\n",
      "\n",
      "Стандартное отклонение:  2.966353962380936\n",
      "\n",
      "Коэффициент корреляции:  0.992265466465911\n"
     ]
    },
    {
     "data": {
      "image/png": "[encoded data removed]",
      "text/plain": [
       "<Figure size 700x490 with 1 Axes>"
      ]
     },
     "metadata": {
      "needs_background": "light"
     },
     "output_type": "display_data"
    }
   ],
   "source": [
    "# рассматриваем многочлен: y = c0 + c1(x) + c2(x**2) +...+ cn(x**n)\n",
    "\n",
    "pts = len(x) # число точек во входных данных\n",
    "polyval = [] # здесь будем хранить poly fit values\n",
    "\n",
    "if n+1 > pts:\n",
    "    print('Внимание: Степень многочлена должга быть меньше числа точек из входных данных')\n",
    "    print('Проверьте правильность введенных данных')\n",
    "    sys.exit()\n",
    "\n",
    "# Реализация МНК\n",
    "else:\n",
    "    # создаем матрицу А, матрицу Вандермонда E в обозначениях выше\n",
    "    matrixA = np.zeros((pts, n + 1)) \n",
    "    # создаем матрицу В, f в обозначениях выше\n",
    "    matrixB = np.zeros((pts, 1))\n",
    "\n",
    "    # loop to populate arrays\n",
    "    for i in range(pts):\n",
    "        matrixB[i][0] = y[i]\n",
    "        for j in range(n + 1):\n",
    "            matrixA[i][j] = (x[i])**j\n",
    "\n",
    "    print('matrixA:\\n',matrixA)\n",
    "    print('matrixB:\\n',matrixB)\n",
    "    \n",
    "    # Нормальные уравнения (A^T) A x = (A^T) b\n",
    "    At = np.transpose(matrixA) \n",
    "    AtA = np.dot(At, matrixA) \n",
    "    AtB = np.dot(At, matrixB) \n",
    "    coeff = np.linalg.solve(AtA, AtB) \n",
    "    print('coeff:\\n',coeff)\n",
    "\n",
    "    for i in range(pts):\n",
    "        yval = 0\n",
    "        for j in range(n + 1):\n",
    "            yval = yval + coeff[j, 0]*(x[i])**j \n",
    "        polyval.append(yval)\n",
    "\n",
    "    def approximation(arg):\n",
    "        arg = Symbol('x')\n",
    "        function = 0\n",
    "        for i in range(pts):\n",
    "            function += polyval[i] * arg**i\n",
    "        return function\n",
    "    \n",
    "    # Стандартное отклонение\n",
    "    error = y - polyval\n",
    "    sumval = np.sum(error**2)\n",
    "    stddev = (sumval/(pts - (n + 1)))**0.5\n",
    "\n",
    "    # Коэффициенты корреляции\n",
    "    ymean = np.sum(y)/pts\n",
    "    sumfit = np.sum((y - ymean)**2)\n",
    "    rvalue = ((sumfit - sumval)/sumfit)**0.5\n",
    "\n",
    "    # Визуализация\n",
    "    plt.figure(figsize=(10, 7), dpi=70)\n",
    "    plt.plot(x, y, 'ro', label='Входные данные')\n",
    "    plt.plot(x, polyval, 'c-', label='Аппроксимация $f(x)$ с помощью МНК')\n",
    "\n",
    "    plt.xlabel('x')\n",
    "    plt.ylabel('y')\n",
    "    plt.legend(loc=2)\n",
    "\n",
    "    \n",
    "    print('\\nКоэффициенты многочлена:')\n",
    "    for i in coeff.flatten():\n",
    "        print(i)\n",
    "    print('\\nСтандартное отклонение: ', stddev)\n",
    "    print('\\nКоэффициент корреляции: ', rvalue)"
   ]
  },
  {
   "cell_type": "code",
   "execution_count": null,
   "id": "f0eb41d6",
   "metadata": {},
   "outputs": [],
   "source": []
  },
  {
   "cell_type": "code",
   "execution_count": null,
   "id": "f54262b3",
   "metadata": {},
   "outputs": [],
   "source": []
  }
 ],
 "metadata": {
  "kernelspec": {
   "display_name": "Python 3 (ipykernel)",
   "language": "python",
   "name": "python3"
  },
  "language_info": {
   "codemirror_mode": {
    "name": "ipython",
    "version": 3
   },
   "file_extension": ".py",
   "mimetype": "text/x-python",
   "name": "python",
   "nbconvert_exporter": "python",
   "pygments_lexer": "ipython3",
   "version": "3.9.6"
  }
 },
 "nbformat": 4,
 "nbformat_minor": 5
}
